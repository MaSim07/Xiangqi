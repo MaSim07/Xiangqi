{
 "cells": [
  {
   "cell_type": "code",
   "execution_count": 2,
   "metadata": {},
   "outputs": [
    {
     "name": "stdout",
     "output_type": "stream",
     "text": [
      "multiprocess_search took 8.381395750009688 seconds\n",
      "AlphaBeta Action: (70, 52)\n"
     ]
    },
    {
     "name": "stderr",
     "output_type": "stream",
     "text": [
      "2023-01-08 14:01:43.757575: I tensorflow/core/grappler/optimizers/custom_graph_optimizer_registry.cc:114] Plugin optimizer for device_type GPU is enabled.\n"
     ]
    },
    {
     "name": "stdout",
     "output_type": "stream",
     "text": [
      "AlphaZero Action: (85, 76)\n",
      "AlphaBeta value: 22.0\n",
      "AlphaZero value: 3.0\n",
      "(70, 52)\n",
      "Can't pick up opponent's piece\n"
     ]
    },
    {
     "ename": "NameError",
     "evalue": "name 'quit' is not defined",
     "output_type": "error",
     "traceback": [
      "\u001b[0;31m---------------------------------------------------------------------------\u001b[0m",
      "\u001b[0;31mNameError\u001b[0m                                 Traceback (most recent call last)",
      "Cell \u001b[0;32mIn[2], line 59\u001b[0m\n\u001b[1;32m     57\u001b[0m INITIAL_FEN_BLACK_DOWN \u001b[38;5;241m=\u001b[39m \u001b[38;5;124m\"\u001b[39m\u001b[38;5;124mRHEAKAEHR/9/1C5C/P1P1P1P1P/9/9/p1p1p1p1p/1c5c/9/rheakaehr\u001b[39m\u001b[38;5;124m\"\u001b[39m\n\u001b[1;32m     58\u001b[0m INITIAL_FEN_RED_DOWN \u001b[38;5;241m=\u001b[39m \u001b[38;5;124m\"\u001b[39m\u001b[38;5;124mrheakaehr/9/1c5c1/p1p1p1p1p/9/9/P1P1P1P1P/1C5C1/9/RHEAKAEHR\u001b[39m\u001b[38;5;124m\"\u001b[39m\n\u001b[0;32m---> 59\u001b[0m \u001b[43mmain\u001b[49m\u001b[43m(\u001b[49m\u001b[43m)\u001b[49m\n",
      "Cell \u001b[0;32mIn[2], line 38\u001b[0m, in \u001b[0;36mmain\u001b[0;34m()\u001b[0m\n\u001b[1;32m     36\u001b[0m run \u001b[38;5;241m=\u001b[39m \u001b[38;5;28;01mTrue\u001b[39;00m\n\u001b[1;32m     37\u001b[0m \u001b[38;5;28;01mwhile\u001b[39;00m run:   \n\u001b[0;32m---> 38\u001b[0m     \u001b[43mui\u001b[49m\u001b[38;5;241;43m.\u001b[39;49m\u001b[43mupdate\u001b[49m\u001b[43m(\u001b[49m\u001b[43m)\u001b[49m\n\u001b[1;32m     39\u001b[0m     py_clock\u001b[38;5;241m.\u001b[39mtick(FPS)\n",
      "File \u001b[0;32m~/Documents/ComputerScience/GitHub/CheapChess/core/Engine/UI.py:380\u001b[0m, in \u001b[0;36mUI.update\u001b[0;34m(self)\u001b[0m\n\u001b[1;32m    378\u001b[0m Clock\u001b[39m.\u001b[39mrun(\u001b[39mself\u001b[39m\u001b[39m.\u001b[39mboard\u001b[39m.\u001b[39mmoving_color) \n\u001b[1;32m    379\u001b[0m \u001b[39mself\u001b[39m\u001b[39m.\u001b[39mrender()\n\u001b[0;32m--> 380\u001b[0m \u001b[39mself\u001b[39;49m\u001b[39m.\u001b[39;49mevent_handler()\n\u001b[1;32m    381\u001b[0m \u001b[39mif\u001b[39;00m GameManager\u001b[39m.\u001b[39mgameover:\n\u001b[1;32m    382\u001b[0m     \u001b[39mreturn\u001b[39;00m\n",
      "File \u001b[0;32m~/Documents/ComputerScience/GitHub/CheapChess/core/Engine/UI.py:312\u001b[0m, in \u001b[0;36mUI.event_handler\u001b[0;34m(self)\u001b[0m\n\u001b[1;32m    310\u001b[0m \u001b[39mfor\u001b[39;00m event \u001b[39min\u001b[39;00m pygame\u001b[39m.\u001b[39mevent\u001b[39m.\u001b[39mget():\n\u001b[1;32m    311\u001b[0m     \u001b[39mif\u001b[39;00m event\u001b[39m.\u001b[39mtype \u001b[39m==\u001b[39m pygame\u001b[39m.\u001b[39mQUIT:\n\u001b[0;32m--> 312\u001b[0m         quit()\n\u001b[1;32m    314\u001b[0m     \u001b[39mif\u001b[39;00m \u001b[39mself\u001b[39m\u001b[39m.\u001b[39mai_vs_ai:\n\u001b[1;32m    315\u001b[0m         \u001b[39mif\u001b[39;00m event\u001b[39m.\u001b[39mtype \u001b[39m==\u001b[39m pygame\u001b[39m.\u001b[39mKEYDOWN:\n",
      "\u001b[0;31mNameError\u001b[0m: name 'quit' is not defined"
     ]
    }
   ],
   "source": [
    "\"\"\"\n",
    "Copyright (C) 2021-2022 Simon Ma <https://github.com/Simuschlatz> - All Rights Reserved. \n",
    "You may use, distribute and modify this code under the terms of the GNU General Public License\n",
    "\"\"\"\n",
    "def main():\n",
    "    play_as_red = True\n",
    "    red_moves_first = True\n",
    "    fen = INITIAL_FEN_RED_DOWN if play_as_red else INITIAL_FEN_BLACK_DOWN \n",
    "    fen += (\" w \" if red_moves_first else \" b \") + \"- - 0 1\"\n",
    "    Clock.init(600)\n",
    "    # If you play as red, red pieces are gonna be at the bottom, else they're at the top\n",
    "\n",
    "    board = Board(fen, play_as_red)\n",
    "    agent = AlphaBetaZeroAgent(board)\n",
    "    # print(agent.choose_action())\n",
    "    LegalMoveGenerator.init_board(board)\n",
    "    LegalMoveGenerator.load_moves()\n",
    "    # print(sum(LegalMoveGenerator.bitvector_legal_moves()))\n",
    "    ui = UI(board)\n",
    "    # m = CNN()\n",
    "    # m._build()\n",
    "    # print(m.predict(board.piecelist_to_bitboard(adjust_perspective=True)))\n",
    "    # sp = SelfPlay(m, board)\n",
    "    # sp.train()\n",
    "    # sp.parallel_training()\n",
    "    # mcts = MCTS(m)\n",
    "    # bb = board.piecelist_to_bitboard(adjust_perspective=True)\n",
    "    # pi = mcts.get_probability_distribution(board, list(bb), tau=1)\n",
    "    # print(pi)\n",
    "    \n",
    "    # ------To run perft search------\n",
    "    # start_search(board)\n",
    "    # -------------------------------\n",
    "\n",
    "    py_clock = pygame.time.Clock()\n",
    "    run = True\n",
    "    while run:   \n",
    "        ui.update()\n",
    "        py_clock.tick(FPS)\n",
    "\n",
    "if __name__ == \"__main__\":\n",
    "    import pygame\n",
    "    pygame.init()\n",
    "    from core.Engine import Board, LegalMoveGenerator, Clock, NLPCommandHandler, ZobristHashing, PrecomputingMoves\n",
    "    from core.Engine.UI import UI\n",
    "    from core.Utils import start_search\n",
    "    from core.Engine.AI.AlphaZero import CNN, MCTS, SelfPlay\n",
    "    from core.Engine.AI.mixed_agent import AlphaBetaZeroAgent\n",
    "\n",
    "    FPS = 45\n",
    "\n",
    "    pygame.display.set_caption(\"JOE MAMA\")\n",
    "    # pygame.display.set_icon(PIECES_IMGS[7])\n",
    "    pygame.font.init()\n",
    "\n",
    "\n",
    "    INITIAL_FEN_BLACK_DOWN = \"RHEAKAEHR/9/1C5C/P1P1P1P1P/9/9/p1p1p1p1p/1c5c/9/rheakaehr\"\n",
    "    INITIAL_FEN_RED_DOWN = \"rheakaehr/9/1c5c1/p1p1p1p1p/9/9/P1P1P1P1P/1C5C1/9/RHEAKAEHR\"\n",
    "    main()\n",
    " "
   ]
  },
  {
   "cell_type": "code",
   "execution_count": null,
   "metadata": {},
   "outputs": [],
   "source": []
  }
 ],
 "metadata": {
  "kernelspec": {
   "display_name": "Python 3.10.8 64-bit ('ML')",
   "language": "python",
   "name": "python3"
  },
  "language_info": {
   "codemirror_mode": {
    "name": "ipython",
    "version": 3
   },
   "file_extension": ".py",
   "mimetype": "text/x-python",
   "name": "python",
   "nbconvert_exporter": "python",
   "pygments_lexer": "ipython3",
   "version": "3.10.8"
  },
  "orig_nbformat": 4,
  "vscode": {
   "interpreter": {
    "hash": "df905de2c1704d7651924722fa69f925281925ea9c4c16b897cfe84c71a2cd30"
   }
  }
 },
 "nbformat": 4,
 "nbformat_minor": 2
}
